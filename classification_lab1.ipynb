{
  "nbformat": 4,
  "nbformat_minor": 0,
  "metadata": {
    "colab": {
      "provenance": [],
      "authorship_tag": "ABX9TyPDqi36M+fROVypCwQpYG6L",
      "include_colab_link": true
    },
    "kernelspec": {
      "name": "python3",
      "display_name": "Python 3"
    },
    "language_info": {
      "name": "python"
    }
  },
  "cells": [
    {
      "cell_type": "markdown",
      "metadata": {
        "id": "view-in-github",
        "colab_type": "text"
      },
      "source": [
        "<a href=\"https://colab.research.google.com/github/rlombamoreno/classification_summarization_task_IBM_Granites/blob/main/classification_lab1.ipynb\" target=\"_parent\"><img src=\"https://colab.research.google.com/assets/colab-badge.svg\" alt=\"Open In Colab\"/></a>"
      ]
    },
    {
      "cell_type": "code",
      "execution_count": null,
      "metadata": {
        "id": "QdIeQW595Trs"
      },
      "outputs": [],
      "source": [
        "!pip install langchain_community\n",
        "!pip install replicate"
      ]
    },
    {
      "cell_type": "code",
      "source": [
        "from langchain_community.llms import Replicate\n",
        "import os\n",
        "from google.colab import userdata\n",
        "\n",
        "# Set the API token\n",
        "api_token = userdata.get('api_token')\n",
        "os.environ[\"REPLICATE_API_TOKEN\"] = api_token\n",
        "\n",
        "# Model setup\n",
        "model = \"ibm-granite/granite-3.3-8b-instruct\"\n",
        "\n",
        "output = Replicate(\n",
        "  model=model,\n",
        "  replicate_api_token=api_token,\n",
        ")\n",
        "\n",
        "# Define the custumer reviews\n",
        "customer_reviews = [\n",
        "    \"The battery lasts all day, but the phone gets hot during gaming.\",\n",
        "    \"The screen is too dim outdoors, but I love the colors indoors.\",\n",
        "    \"This phone is fast, but it keeps crashing when I open certain apps.\"\n",
        "]\n",
        "\n",
        "# Define the custumer meetings\n",
        "customer_meetings = [\n",
        "    \"\"\"\n",
        "    The meeting began with a discussion of the Q3 marketing budget.\n",
        "    It was decided that 40% of the budget will go to digital ads,\n",
        "    30% to events, and 30% to social media campaigns. The team emphasized the\n",
        "    need for influencer partnerships to increase brand visibility\n",
        "    and email marketing to boost direct engagement. A pilot program to test\n",
        "    new ad formats will launch next month, with the team reviewing results\n",
        "    by the end of Q3.\n",
        "\n",
        "    Later, the tean discussed campaign performance metrics. ROI monitoring\n",
        "    will be a top priority, and adjustments will be made based on performance\n",
        "    data.\n",
        "    The events team raised concerns about resource allocation for upcoming\n",
        "    trade shows, and it was agreed that an additional $10,000 would be\n",
        "    reallocated to\n",
        "    cover these costs.\n",
        "\n",
        "    Lastly, the team reviewed new creative concepts for the upcoming campaign,\n",
        "    deciding to proceed with Concept B, which tested better among focus groups.\n",
        "    Deadlines for campaign assets were finalized: all deliverables must be\n",
        "    submitted by July 15.\n",
        "    \"\"\"\n",
        "]\n",
        "\n",
        "# Refine the prompt to include reviews\n",
        "reviews_text = \"\\n\".join([f\"Review {i+1}: {review}\" for i, review\n",
        "                          in enumerate(customer_reviews)])\n",
        "\n",
        "\n",
        "prompt = f\"\"\"\n",
        "Classify these reviews as positive, negative, or mixed:\n",
        "\n",
        "{reviews_text}\n",
        "\"\"\"\n",
        "\n",
        "refined_prompt = f\"\"\"\n",
        "Classify these reviews as positive, negative, or mixed, and tag\n",
        "relevant categories (battery life, screen quality, or performance):\n",
        "\n",
        "{reviews_text}\n",
        "\"\"\"\n",
        "\n",
        "multitask_prompt = f\"\"\"\n",
        "Complete the task in 2 steps.\n",
        "Step 1: Classify these reviews as positive, negative, or mixed.\n",
        "Step 2: For each review, identify relevant categories: battery live, screen\n",
        "quality, or performance.\n",
        "\n",
        "{reviews_text}\n",
        "\"\"\"\n",
        "\n",
        "formatted_prompt = f\"\"\"\n",
        "Classify these reviews as Positive, Negative, or Mixed, and tag relevant\n",
        "categories. Use this format:\n",
        "-Sentiment: [Sentiment]\n",
        "-Categories: [Categories].\n",
        "\n",
        "{reviews_text}\n",
        "\"\"\"\n",
        "# Refine the prompt to include meetings\n",
        "meetings_text = \"\\n\".join([f\"Review {i+1}: {review}\" for i, review\n",
        "                          in enumerate(customer_meetings)])\n",
        "prompt_meetings = f\"\"\"\n",
        "Summarize this meeting\n",
        "\n",
        "{meetings_text}\n",
        "\"\"\"\n",
        "refined_prompt_meetings = f\"\"\"\n",
        "Summarize this meeting in three sentences\n",
        "\n",
        "{meetings_text}\n",
        "\"\"\"\n",
        "refined_focusarea_prompt_meetings = f\"\"\"\n",
        "Summarize this meeting by focusing on key points, decisions, and action items\n",
        "\n",
        "{meetings_text}\n",
        "\"\"\"\n",
        "\n",
        "refined_outputformat_prompt_meetings = f\"\"\"\n",
        "Summarize this meeting into a structured format using the following\n",
        "headings: Key Points Discussed, Decisions Made, and Action Items. Mention\n",
        "timelines. Include only two concise bullet points under each heading.\n",
        "\n",
        "{meetings_text}\n",
        "\"\"\"\n",
        "\n",
        "# Invoke the mode with the example prompt\n",
        "\n",
        "#response = output.invoke(prompt)\n",
        "#response = output.invoke(refined_prompt)\n",
        "#response = output.invoke(multitask_prompt)\n",
        "#response = output.invoke(formatted_prompt)\n",
        "\n",
        "#response = output.invoke(prompt_meetings)\n",
        "#response = output.invoke(refined_prompt_meetings)\n",
        "#response = output.invoke(refined_focusarea_prompt_meetings)\n",
        "response = output.invoke(refined_outputformat_prompt_meetings)\n",
        "\n",
        "\n",
        "# Print the response\n",
        "print(\"Granite Model Response:\\n\")\n",
        "\n",
        "print(response)"
      ],
      "metadata": {
        "colab": {
          "base_uri": "https://localhost:8080/"
        },
        "id": "OHtB1ZHr6BYu",
        "outputId": "5a149632-740b-4340-891a-7062f6903635"
      },
      "execution_count": 16,
      "outputs": [
        {
          "output_type": "stream",
          "name": "stdout",
          "text": [
            "Granite Model Response:\n",
            "\n",
            "**Key Points Discussed:**\n",
            "\n",
            "- Allocation of Q3 marketing budget: 40% to digital ads, 30% to events, and 30% to social media campaigns. Emphasis on influencer partnerships and email marketing.\n",
            "- Prioritization of ROI monitoring for campaign performance and addressing events team's resource concerns with an additional $10,000 reallocation.\n",
            "\n",
            "**Decisions Made:**\n",
            "\n",
            "- Launch of a pilot program to test new ad formats next month, with review results expected by the end of Q3.\n",
            "- Agreement to proceed with Concept B for the upcoming campaign, chosen based on focus group testing.\n",
            "- Finalization of campaign asset deadlines, requiring all deliverables to be submitted by July 15.\n",
            "\n",
            "**Action Items:**\n",
            "\n",
            "- Execute the pilot program for new ad formats and analyze results by Q3 end.\n",
            "- Increase events budget by $10,000 to accommodate upcoming trade shows.\n",
            "- Complete and submit all campaign assets by July 15, focusing on Concept B.\n"
          ]
        }
      ]
    },
    {
      "cell_type": "code",
      "source": [],
      "metadata": {
        "id": "W8csi26p_kur"
      },
      "execution_count": null,
      "outputs": []
    }
  ]
}